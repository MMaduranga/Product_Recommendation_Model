{
 "cells": [
  {
   "cell_type": "code",
   "execution_count": 2,
   "id": "6b43bf0d",
   "metadata": {},
   "outputs": [],
   "source": [
    "import numpy as np\n",
    "import pandas as pd\n",
    "from keras.models import Sequential\n",
    "from keras.layers import LSTM, Dense, Dropout\n",
    "from keras.optimizers import Adam\n",
    "from keras_preprocessing.sequence import pad_sequences\n",
    "from sklearn.preprocessing import LabelEncoder"
   ]
  },
  {
   "cell_type": "code",
   "execution_count": 76,
   "id": "a672ebcb",
   "metadata": {},
   "outputs": [],
   "source": [
    "data = pd.read_csv('C:\\\\Users\\\\MDW\\\\Desktop\\\\dhfwhef.csv')"
   ]
  },
  {
   "cell_type": "code",
   "execution_count": 80,
   "id": "e4420f5f",
   "metadata": {},
   "outputs": [
    {
     "data": {
      "text/html": [
       "<div>\n",
       "<style scoped>\n",
       "    .dataframe tbody tr th:only-of-type {\n",
       "        vertical-align: middle;\n",
       "    }\n",
       "\n",
       "    .dataframe tbody tr th {\n",
       "        vertical-align: top;\n",
       "    }\n",
       "\n",
       "    .dataframe thead th {\n",
       "        text-align: right;\n",
       "    }\n",
       "</style>\n",
       "<table border=\"1\" class=\"dataframe\">\n",
       "  <thead>\n",
       "    <tr style=\"text-align: right;\">\n",
       "      <th></th>\n",
       "      <th>user_id</th>\n",
       "      <th>item_id</th>\n",
       "      <th>timestamp</th>\n",
       "    </tr>\n",
       "  </thead>\n",
       "  <tbody>\n",
       "    <tr>\n",
       "      <th>0</th>\n",
       "      <td>1</td>\n",
       "      <td>phone1</td>\n",
       "      <td>1/1/2022 10:00</td>\n",
       "    </tr>\n",
       "    <tr>\n",
       "      <th>1</th>\n",
       "      <td>1</td>\n",
       "      <td>case1</td>\n",
       "      <td>1/1/2022 10:05</td>\n",
       "    </tr>\n",
       "    <tr>\n",
       "      <th>2</th>\n",
       "      <td>1</td>\n",
       "      <td>charger1</td>\n",
       "      <td>1/1/2022 10:10</td>\n",
       "    </tr>\n",
       "    <tr>\n",
       "      <th>15</th>\n",
       "      <td>1</td>\n",
       "      <td>earphones1</td>\n",
       "      <td>1/1/2022 10:15</td>\n",
       "    </tr>\n",
       "    <tr>\n",
       "      <th>16</th>\n",
       "      <td>1</td>\n",
       "      <td>screen protector1</td>\n",
       "      <td>1/1/2022 10:20</td>\n",
       "    </tr>\n",
       "  </tbody>\n",
       "</table>\n",
       "</div>"
      ],
      "text/plain": [
       "    user_id            item_id       timestamp\n",
       "0         1             phone1  1/1/2022 10:00\n",
       "1         1              case1  1/1/2022 10:05\n",
       "2         1           charger1  1/1/2022 10:10\n",
       "15        1         earphones1  1/1/2022 10:15\n",
       "16        1  screen protector1  1/1/2022 10:20"
      ]
     },
     "execution_count": 80,
     "metadata": {},
     "output_type": "execute_result"
    }
   ],
   "source": [
    "data=data.drop_duplicates()\n",
    "data.head(5)"
   ]
  },
  {
   "cell_type": "code",
   "execution_count": 82,
   "id": "7b360d41",
   "metadata": {},
   "outputs": [
    {
     "data": {
      "text/html": [
       "<div>\n",
       "<style scoped>\n",
       "    .dataframe tbody tr th:only-of-type {\n",
       "        vertical-align: middle;\n",
       "    }\n",
       "\n",
       "    .dataframe tbody tr th {\n",
       "        vertical-align: top;\n",
       "    }\n",
       "\n",
       "    .dataframe thead th {\n",
       "        text-align: right;\n",
       "    }\n",
       "</style>\n",
       "<table border=\"1\" class=\"dataframe\">\n",
       "  <thead>\n",
       "    <tr style=\"text-align: right;\">\n",
       "      <th></th>\n",
       "      <th>user_id</th>\n",
       "      <th>item_id</th>\n",
       "      <th>timestamp</th>\n",
       "    </tr>\n",
       "  </thead>\n",
       "  <tbody>\n",
       "    <tr>\n",
       "      <th>0</th>\n",
       "      <td>1</td>\n",
       "      <td>phone1</td>\n",
       "      <td>1/1/2022 10:00</td>\n",
       "    </tr>\n",
       "    <tr>\n",
       "      <th>1</th>\n",
       "      <td>1</td>\n",
       "      <td>case1</td>\n",
       "      <td>1/1/2022 10:05</td>\n",
       "    </tr>\n",
       "    <tr>\n",
       "      <th>2</th>\n",
       "      <td>1</td>\n",
       "      <td>charger1</td>\n",
       "      <td>1/1/2022 10:10</td>\n",
       "    </tr>\n",
       "    <tr>\n",
       "      <th>15</th>\n",
       "      <td>1</td>\n",
       "      <td>earphones1</td>\n",
       "      <td>1/1/2022 10:15</td>\n",
       "    </tr>\n",
       "    <tr>\n",
       "      <th>16</th>\n",
       "      <td>1</td>\n",
       "      <td>screen protector1</td>\n",
       "      <td>1/1/2022 10:20</td>\n",
       "    </tr>\n",
       "    <tr>\n",
       "      <th>3</th>\n",
       "      <td>2</td>\n",
       "      <td>phone2</td>\n",
       "      <td>1/1/2022 10:00</td>\n",
       "    </tr>\n",
       "    <tr>\n",
       "      <th>4</th>\n",
       "      <td>2</td>\n",
       "      <td>case2</td>\n",
       "      <td>1/1/2022 10:05</td>\n",
       "    </tr>\n",
       "    <tr>\n",
       "      <th>5</th>\n",
       "      <td>2</td>\n",
       "      <td>charger2</td>\n",
       "      <td>1/1/2022 10:10</td>\n",
       "    </tr>\n",
       "    <tr>\n",
       "      <th>6</th>\n",
       "      <td>2</td>\n",
       "      <td>earphones2</td>\n",
       "      <td>1/1/2022 10:15</td>\n",
       "    </tr>\n",
       "    <tr>\n",
       "      <th>21</th>\n",
       "      <td>2</td>\n",
       "      <td>screen protector2</td>\n",
       "      <td>1/1/2022 10:20</td>\n",
       "    </tr>\n",
       "  </tbody>\n",
       "</table>\n",
       "</div>"
      ],
      "text/plain": [
       "    user_id            item_id       timestamp\n",
       "0         1             phone1  1/1/2022 10:00\n",
       "1         1              case1  1/1/2022 10:05\n",
       "2         1           charger1  1/1/2022 10:10\n",
       "15        1         earphones1  1/1/2022 10:15\n",
       "16        1  screen protector1  1/1/2022 10:20\n",
       "3         2             phone2  1/1/2022 10:00\n",
       "4         2              case2  1/1/2022 10:05\n",
       "5         2           charger2  1/1/2022 10:10\n",
       "6         2         earphones2  1/1/2022 10:15\n",
       "21        2  screen protector2  1/1/2022 10:20"
      ]
     },
     "execution_count": 82,
     "metadata": {},
     "output_type": "execute_result"
    }
   ],
   "source": [
    "data = data.sort_values(by=['user_id', 'timestamp'])\n",
    "data.head(10)"
   ]
  },
  {
   "cell_type": "code",
   "execution_count": 83,
   "id": "8d74a22f",
   "metadata": {},
   "outputs": [
    {
     "data": {
      "text/plain": [
       "(21, 3)"
      ]
     },
     "execution_count": 83,
     "metadata": {},
     "output_type": "execute_result"
    }
   ],
   "source": [
    "data.shape"
   ]
  },
  {
   "cell_type": "code",
   "execution_count": 84,
   "id": "ed7705bd",
   "metadata": {},
   "outputs": [
    {
     "data": {
      "text/html": [
       "<div>\n",
       "<style scoped>\n",
       "    .dataframe tbody tr th:only-of-type {\n",
       "        vertical-align: middle;\n",
       "    }\n",
       "\n",
       "    .dataframe tbody tr th {\n",
       "        vertical-align: top;\n",
       "    }\n",
       "\n",
       "    .dataframe thead th {\n",
       "        text-align: right;\n",
       "    }\n",
       "</style>\n",
       "<table border=\"1\" class=\"dataframe\">\n",
       "  <thead>\n",
       "    <tr style=\"text-align: right;\">\n",
       "      <th></th>\n",
       "      <th>user_id</th>\n",
       "      <th>item_id</th>\n",
       "      <th>timestamp</th>\n",
       "    </tr>\n",
       "  </thead>\n",
       "  <tbody>\n",
       "    <tr>\n",
       "      <th>0</th>\n",
       "      <td>1</td>\n",
       "      <td>14</td>\n",
       "      <td>1/1/2022 10:00</td>\n",
       "    </tr>\n",
       "    <tr>\n",
       "      <th>1</th>\n",
       "      <td>1</td>\n",
       "      <td>2</td>\n",
       "      <td>1/1/2022 10:05</td>\n",
       "    </tr>\n",
       "    <tr>\n",
       "      <th>2</th>\n",
       "      <td>1</td>\n",
       "      <td>5</td>\n",
       "      <td>1/1/2022 10:10</td>\n",
       "    </tr>\n",
       "    <tr>\n",
       "      <th>15</th>\n",
       "      <td>1</td>\n",
       "      <td>8</td>\n",
       "      <td>1/1/2022 10:15</td>\n",
       "    </tr>\n",
       "    <tr>\n",
       "      <th>16</th>\n",
       "      <td>1</td>\n",
       "      <td>17</td>\n",
       "      <td>1/1/2022 10:20</td>\n",
       "    </tr>\n",
       "    <tr>\n",
       "      <th>3</th>\n",
       "      <td>2</td>\n",
       "      <td>15</td>\n",
       "      <td>1/1/2022 10:00</td>\n",
       "    </tr>\n",
       "    <tr>\n",
       "      <th>4</th>\n",
       "      <td>2</td>\n",
       "      <td>3</td>\n",
       "      <td>1/1/2022 10:05</td>\n",
       "    </tr>\n",
       "    <tr>\n",
       "      <th>5</th>\n",
       "      <td>2</td>\n",
       "      <td>6</td>\n",
       "      <td>1/1/2022 10:10</td>\n",
       "    </tr>\n",
       "    <tr>\n",
       "      <th>6</th>\n",
       "      <td>2</td>\n",
       "      <td>9</td>\n",
       "      <td>1/1/2022 10:15</td>\n",
       "    </tr>\n",
       "    <tr>\n",
       "      <th>21</th>\n",
       "      <td>2</td>\n",
       "      <td>18</td>\n",
       "      <td>1/1/2022 10:20</td>\n",
       "    </tr>\n",
       "  </tbody>\n",
       "</table>\n",
       "</div>"
      ],
      "text/plain": [
       "    user_id  item_id       timestamp\n",
       "0         1       14  1/1/2022 10:00\n",
       "1         1        2  1/1/2022 10:05\n",
       "2         1        5  1/1/2022 10:10\n",
       "15        1        8  1/1/2022 10:15\n",
       "16        1       17  1/1/2022 10:20\n",
       "3         2       15  1/1/2022 10:00\n",
       "4         2        3  1/1/2022 10:05\n",
       "5         2        6  1/1/2022 10:10\n",
       "6         2        9  1/1/2022 10:15\n",
       "21        2       18  1/1/2022 10:20"
      ]
     },
     "execution_count": 84,
     "metadata": {},
     "output_type": "execute_result"
    }
   ],
   "source": [
    "label_encoder = LabelEncoder()\n",
    "data['item_id'] = label_encoder.fit_transform(data['item_id'])\n",
    "data.head(10)"
   ]
  },
  {
   "cell_type": "code",
   "execution_count": 85,
   "id": "e281061f",
   "metadata": {},
   "outputs": [
    {
     "data": {
      "text/plain": [
       "user_id\n",
       "1                    [14, 2, 5, 8, 17]\n",
       "2             [15, 3, 6, 9, 18, 12, 0]\n",
       "3    [16, 4, 7, 10, 19, 13, 1, 20, 11]\n",
       "Name: item_id, dtype: object"
      ]
     },
     "execution_count": 85,
     "metadata": {},
     "output_type": "execute_result"
    }
   ],
   "source": [
    "sequences = data.groupby('user_id')['item_id'].apply(list)\n",
    "sequences"
   ]
  },
  {
   "cell_type": "code",
   "execution_count": 86,
   "id": "e893de63",
   "metadata": {},
   "outputs": [
    {
     "data": {
      "text/plain": [
       "array([[ 0,  0,  0,  0,  0, 14,  2,  5,  8, 17],\n",
       "       [ 0,  0,  0, 15,  3,  6,  9, 18, 12,  0],\n",
       "       [ 0, 16,  4,  7, 10, 19, 13,  1, 20, 11]])"
      ]
     },
     "execution_count": 86,
     "metadata": {},
     "output_type": "execute_result"
    }
   ],
   "source": [
    "max_sequence_length = 10\n",
    "X = pad_sequences(sequences, maxlen=max_sequence_length, padding='pre', truncating='pre')\n",
    "y = np.array([seq[-1] for seq in sequences])\n",
    "X"
   ]
  },
  {
   "cell_type": "code",
   "execution_count": 87,
   "id": "29801f94",
   "metadata": {},
   "outputs": [
    {
     "data": {
      "text/plain": [
       "array([17,  0, 11])"
      ]
     },
     "execution_count": 87,
     "metadata": {},
     "output_type": "execute_result"
    }
   ],
   "source": [
    "y"
   ]
  },
  {
   "cell_type": "code",
   "execution_count": 88,
   "id": "02b9485c",
   "metadata": {},
   "outputs": [
    {
     "data": {
      "text/plain": [
       "array([[ 0, 16,  4,  7, 10, 19, 13,  1, 20, 11]])"
      ]
     },
     "execution_count": 88,
     "metadata": {},
     "output_type": "execute_result"
    }
   ],
   "source": [
    "train_size = int(0.8 * len(X))\n",
    "X_train, X_test = X[:train_size], X[train_size:]\n",
    "y_train, y_test = y[:train_size], y[train_size:]\n",
    "X_test"
   ]
  },
  {
   "cell_type": "code",
   "execution_count": 89,
   "id": "03ae76bf",
   "metadata": {},
   "outputs": [],
   "source": [
    "model = Sequential()\n",
    "model.add(LSTM(128, input_shape=(max_sequence_length, 1)))\n",
    "model.add(Dropout(0.2))\n",
    "model.add(Dense(len(label_encoder.classes_), activation='softmax'))"
   ]
  },
  {
   "cell_type": "code",
   "execution_count": 90,
   "id": "fc10e037",
   "metadata": {},
   "outputs": [],
   "source": [
    "model.compile(loss='sparse_categorical_crossentropy', optimizer=Adam(learning_rate=0.01), metrics=['accuracy'])"
   ]
  },
  {
   "cell_type": "code",
   "execution_count": 91,
   "id": "17515321",
   "metadata": {},
   "outputs": [],
   "source": [
    "X_train = X_train.reshape((X_train.shape[0], X_train.shape[1], 1))\n",
    "X_test = X_test.reshape((X_test.shape[0], X_test.shape[1], 1))"
   ]
  },
  {
   "cell_type": "code",
   "execution_count": 92,
   "id": "5d5a4427",
   "metadata": {},
   "outputs": [
    {
     "name": "stdout",
     "output_type": "stream",
     "text": [
      "Epoch 1/100\n",
      "1/1 [==============================] - 2s 2s/step - loss: 3.2680 - accuracy: 0.0000e+00 - val_loss: 4.2099 - val_accuracy: 0.0000e+00\n",
      "Epoch 2/100\n",
      "1/1 [==============================] - 0s 87ms/step - loss: 1.4128 - accuracy: 0.5000 - val_loss: 5.4873 - val_accuracy: 0.0000e+00\n",
      "Epoch 3/100\n",
      "1/1 [==============================] - 0s 58ms/step - loss: 0.6809 - accuracy: 0.5000 - val_loss: 6.7520 - val_accuracy: 0.0000e+00\n",
      "Epoch 4/100\n",
      "1/1 [==============================] - 0s 31ms/step - loss: 0.3153 - accuracy: 1.0000 - val_loss: 7.7972 - val_accuracy: 0.0000e+00\n",
      "Epoch 5/100\n",
      "1/1 [==============================] - 0s 31ms/step - loss: 0.3132 - accuracy: 1.0000 - val_loss: 8.5680 - val_accuracy: 0.0000e+00\n",
      "Epoch 6/100\n",
      "1/1 [==============================] - 0s 34ms/step - loss: 0.1056 - accuracy: 1.0000 - val_loss: 8.9206 - val_accuracy: 0.0000e+00\n",
      "Epoch 7/100\n",
      "1/1 [==============================] - 0s 39ms/step - loss: 0.1532 - accuracy: 1.0000 - val_loss: 9.4103 - val_accuracy: 0.0000e+00\n",
      "Epoch 8/100\n",
      "1/1 [==============================] - 0s 44ms/step - loss: 0.0650 - accuracy: 1.0000 - val_loss: 9.9410 - val_accuracy: 0.0000e+00\n",
      "Epoch 9/100\n",
      "1/1 [==============================] - 0s 38ms/step - loss: 0.0511 - accuracy: 1.0000 - val_loss: 10.3358 - val_accuracy: 0.0000e+00\n",
      "Epoch 10/100\n",
      "1/1 [==============================] - 0s 21ms/step - loss: 0.0339 - accuracy: 1.0000 - val_loss: 10.4352 - val_accuracy: 0.0000e+00\n",
      "Epoch 11/100\n",
      "1/1 [==============================] - 0s 50ms/step - loss: 0.0145 - accuracy: 1.0000 - val_loss: 10.5923 - val_accuracy: 0.0000e+00\n",
      "Epoch 12/100\n",
      "1/1 [==============================] - 0s 35ms/step - loss: 0.0081 - accuracy: 1.0000 - val_loss: 10.7257 - val_accuracy: 0.0000e+00\n",
      "Epoch 13/100\n",
      "1/1 [==============================] - 0s 25ms/step - loss: 0.0393 - accuracy: 1.0000 - val_loss: 10.6993 - val_accuracy: 0.0000e+00\n",
      "Epoch 14/100\n",
      "1/1 [==============================] - 0s 36ms/step - loss: 0.0082 - accuracy: 1.0000 - val_loss: 10.7397 - val_accuracy: 0.0000e+00\n",
      "Epoch 15/100\n",
      "1/1 [==============================] - 0s 29ms/step - loss: 0.0097 - accuracy: 1.0000 - val_loss: 10.8068 - val_accuracy: 0.0000e+00\n",
      "Epoch 16/100\n",
      "1/1 [==============================] - 0s 31ms/step - loss: 0.0052 - accuracy: 1.0000 - val_loss: 10.8774 - val_accuracy: 0.0000e+00\n",
      "Epoch 17/100\n",
      "1/1 [==============================] - 0s 33ms/step - loss: 0.0052 - accuracy: 1.0000 - val_loss: 10.9506 - val_accuracy: 0.0000e+00\n",
      "Epoch 18/100\n",
      "1/1 [==============================] - 0s 33ms/step - loss: 0.0052 - accuracy: 1.0000 - val_loss: 11.0254 - val_accuracy: 0.0000e+00\n",
      "Epoch 19/100\n",
      "1/1 [==============================] - 0s 37ms/step - loss: 0.0025 - accuracy: 1.0000 - val_loss: 11.1000 - val_accuracy: 0.0000e+00\n",
      "Epoch 20/100\n",
      "1/1 [==============================] - 0s 20ms/step - loss: 0.0051 - accuracy: 1.0000 - val_loss: 11.1641 - val_accuracy: 0.0000e+00\n",
      "Epoch 21/100\n",
      "1/1 [==============================] - 0s 28ms/step - loss: 0.0042 - accuracy: 1.0000 - val_loss: 11.2377 - val_accuracy: 0.0000e+00\n",
      "Epoch 22/100\n",
      "1/1 [==============================] - 0s 19ms/step - loss: 0.0016 - accuracy: 1.0000 - val_loss: 11.3133 - val_accuracy: 0.0000e+00\n",
      "Epoch 23/100\n",
      "1/1 [==============================] - 0s 34ms/step - loss: 7.7669e-04 - accuracy: 1.0000 - val_loss: 11.3845 - val_accuracy: 0.0000e+00\n",
      "Epoch 24/100\n",
      "1/1 [==============================] - 0s 30ms/step - loss: 5.1238e-04 - accuracy: 1.0000 - val_loss: 11.4513 - val_accuracy: 0.0000e+00\n",
      "Epoch 25/100\n",
      "1/1 [==============================] - 0s 33ms/step - loss: 9.6280e-04 - accuracy: 1.0000 - val_loss: 11.5150 - val_accuracy: 0.0000e+00\n",
      "Epoch 26/100\n",
      "1/1 [==============================] - 0s 32ms/step - loss: 0.0014 - accuracy: 1.0000 - val_loss: 11.5729 - val_accuracy: 0.0000e+00\n",
      "Epoch 27/100\n",
      "1/1 [==============================] - 0s 32ms/step - loss: 0.0012 - accuracy: 1.0000 - val_loss: 11.6298 - val_accuracy: 0.0000e+00\n",
      "Epoch 28/100\n",
      "1/1 [==============================] - 0s 27ms/step - loss: 7.3569e-04 - accuracy: 1.0000 - val_loss: 11.6821 - val_accuracy: 0.0000e+00\n",
      "Epoch 29/100\n",
      "1/1 [==============================] - 0s 31ms/step - loss: 3.2512e-04 - accuracy: 1.0000 - val_loss: 11.7274 - val_accuracy: 0.0000e+00\n",
      "Epoch 30/100\n",
      "1/1 [==============================] - 0s 49ms/step - loss: 6.7372e-04 - accuracy: 1.0000 - val_loss: 11.7687 - val_accuracy: 0.0000e+00\n",
      "Epoch 31/100\n",
      "1/1 [==============================] - 0s 33ms/step - loss: 9.3624e-04 - accuracy: 1.0000 - val_loss: 11.8044 - val_accuracy: 0.0000e+00\n",
      "Epoch 32/100\n",
      "1/1 [==============================] - 0s 33ms/step - loss: 2.6972e-04 - accuracy: 1.0000 - val_loss: 11.8355 - val_accuracy: 0.0000e+00\n",
      "Epoch 33/100\n",
      "1/1 [==============================] - 0s 29ms/step - loss: 3.9181e-04 - accuracy: 1.0000 - val_loss: 11.8644 - val_accuracy: 0.0000e+00\n",
      "Epoch 34/100\n",
      "1/1 [==============================] - 0s 32ms/step - loss: 2.2831e-04 - accuracy: 1.0000 - val_loss: 11.8902 - val_accuracy: 0.0000e+00\n",
      "Epoch 35/100\n",
      "1/1 [==============================] - 0s 43ms/step - loss: 3.0688e-04 - accuracy: 1.0000 - val_loss: 11.9133 - val_accuracy: 0.0000e+00\n",
      "Epoch 36/100\n",
      "1/1 [==============================] - 0s 33ms/step - loss: 4.7327e-04 - accuracy: 1.0000 - val_loss: 11.9355 - val_accuracy: 0.0000e+00\n",
      "Epoch 37/100\n",
      "1/1 [==============================] - 0s 32ms/step - loss: 5.2011e-04 - accuracy: 1.0000 - val_loss: 11.9553 - val_accuracy: 0.0000e+00\n",
      "Epoch 38/100\n",
      "1/1 [==============================] - 0s 33ms/step - loss: 8.5251e-04 - accuracy: 1.0000 - val_loss: 11.9735 - val_accuracy: 0.0000e+00\n",
      "Epoch 39/100\n",
      "1/1 [==============================] - 0s 30ms/step - loss: 3.4600e-04 - accuracy: 1.0000 - val_loss: 11.9908 - val_accuracy: 0.0000e+00\n",
      "Epoch 40/100\n",
      "1/1 [==============================] - 0s 32ms/step - loss: 4.3557e-04 - accuracy: 1.0000 - val_loss: 12.0065 - val_accuracy: 0.0000e+00\n",
      "Epoch 41/100\n",
      "1/1 [==============================] - 0s 28ms/step - loss: 2.4178e-04 - accuracy: 1.0000 - val_loss: 12.0215 - val_accuracy: 0.0000e+00\n",
      "Epoch 42/100\n",
      "1/1 [==============================] - 0s 34ms/step - loss: 1.2707e-04 - accuracy: 1.0000 - val_loss: 12.0352 - val_accuracy: 0.0000e+00\n",
      "Epoch 43/100\n",
      "1/1 [==============================] - 0s 32ms/step - loss: 7.5024e-04 - accuracy: 1.0000 - val_loss: 12.0487 - val_accuracy: 0.0000e+00\n",
      "Epoch 44/100\n",
      "1/1 [==============================] - 0s 43ms/step - loss: 1.9501e-04 - accuracy: 1.0000 - val_loss: 12.0616 - val_accuracy: 0.0000e+00\n",
      "Epoch 45/100\n",
      "1/1 [==============================] - 0s 19ms/step - loss: 3.1129e-04 - accuracy: 1.0000 - val_loss: 12.0731 - val_accuracy: 0.0000e+00\n",
      "Epoch 46/100\n",
      "1/1 [==============================] - 0s 33ms/step - loss: 5.9511e-04 - accuracy: 1.0000 - val_loss: 12.0826 - val_accuracy: 0.0000e+00\n",
      "Epoch 47/100\n",
      "1/1 [==============================] - 0s 31ms/step - loss: 3.9937e-04 - accuracy: 1.0000 - val_loss: 12.0928 - val_accuracy: 0.0000e+00\n",
      "Epoch 48/100\n",
      "1/1 [==============================] - 0s 30ms/step - loss: 2.2289e-04 - accuracy: 1.0000 - val_loss: 12.1028 - val_accuracy: 0.0000e+00\n",
      "Epoch 49/100\n",
      "1/1 [==============================] - 0s 33ms/step - loss: 1.3696e-04 - accuracy: 1.0000 - val_loss: 12.1122 - val_accuracy: 0.0000e+00\n",
      "Epoch 50/100\n",
      "1/1 [==============================] - 0s 30ms/step - loss: 1.3649e-04 - accuracy: 1.0000 - val_loss: 12.1213 - val_accuracy: 0.0000e+00\n",
      "Epoch 51/100\n",
      "1/1 [==============================] - 0s 36ms/step - loss: 1.2140e-04 - accuracy: 1.0000 - val_loss: 12.1296 - val_accuracy: 0.0000e+00\n",
      "Epoch 52/100\n",
      "1/1 [==============================] - 0s 30ms/step - loss: 3.3076e-04 - accuracy: 1.0000 - val_loss: 12.1369 - val_accuracy: 0.0000e+00\n",
      "Epoch 53/100\n",
      "1/1 [==============================] - 0s 21ms/step - loss: 4.4019e-04 - accuracy: 1.0000 - val_loss: 12.1457 - val_accuracy: 0.0000e+00\n",
      "Epoch 54/100\n",
      "1/1 [==============================] - 0s 36ms/step - loss: 5.4861e-04 - accuracy: 1.0000 - val_loss: 12.1561 - val_accuracy: 0.0000e+00\n",
      "Epoch 55/100\n",
      "1/1 [==============================] - 0s 31ms/step - loss: 8.0947e-04 - accuracy: 1.0000 - val_loss: 12.1664 - val_accuracy: 0.0000e+00\n",
      "Epoch 56/100\n"
     ]
    },
    {
     "name": "stdout",
     "output_type": "stream",
     "text": [
      "1/1 [==============================] - 0s 32ms/step - loss: 9.1251e-05 - accuracy: 1.0000 - val_loss: 12.1760 - val_accuracy: 0.0000e+00\n",
      "Epoch 57/100\n",
      "1/1 [==============================] - 0s 29ms/step - loss: 2.3392e-04 - accuracy: 1.0000 - val_loss: 12.1860 - val_accuracy: 0.0000e+00\n",
      "Epoch 58/100\n",
      "1/1 [==============================] - 0s 33ms/step - loss: 1.8714e-04 - accuracy: 1.0000 - val_loss: 12.1961 - val_accuracy: 0.0000e+00\n",
      "Epoch 59/100\n",
      "1/1 [==============================] - 0s 33ms/step - loss: 1.0973e-04 - accuracy: 1.0000 - val_loss: 12.2058 - val_accuracy: 0.0000e+00\n",
      "Epoch 60/100\n",
      "1/1 [==============================] - 0s 19ms/step - loss: 2.2354e-04 - accuracy: 1.0000 - val_loss: 12.2150 - val_accuracy: 0.0000e+00\n",
      "Epoch 61/100\n",
      "1/1 [==============================] - 0s 33ms/step - loss: 1.2546e-04 - accuracy: 1.0000 - val_loss: 12.2239 - val_accuracy: 0.0000e+00\n",
      "Epoch 62/100\n",
      "1/1 [==============================] - 0s 33ms/step - loss: 1.3315e-04 - accuracy: 1.0000 - val_loss: 12.2324 - val_accuracy: 0.0000e+00\n",
      "Epoch 63/100\n",
      "1/1 [==============================] - 0s 30ms/step - loss: 1.3708e-04 - accuracy: 1.0000 - val_loss: 12.2406 - val_accuracy: 0.0000e+00\n",
      "Epoch 64/100\n",
      "1/1 [==============================] - 0s 32ms/step - loss: 5.7219e-05 - accuracy: 1.0000 - val_loss: 12.2483 - val_accuracy: 0.0000e+00\n",
      "Epoch 65/100\n",
      "1/1 [==============================] - 0s 49ms/step - loss: 9.7985e-05 - accuracy: 1.0000 - val_loss: 12.2560 - val_accuracy: 0.0000e+00\n",
      "Epoch 66/100\n",
      "1/1 [==============================] - 0s 36ms/step - loss: 6.6993e-05 - accuracy: 1.0000 - val_loss: 12.2632 - val_accuracy: 0.0000e+00\n",
      "Epoch 67/100\n",
      "1/1 [==============================] - 0s 37ms/step - loss: 7.1581e-05 - accuracy: 1.0000 - val_loss: 12.2701 - val_accuracy: 0.0000e+00\n",
      "Epoch 68/100\n",
      "1/1 [==============================] - 0s 33ms/step - loss: 2.9854e-04 - accuracy: 1.0000 - val_loss: 12.2771 - val_accuracy: 0.0000e+00\n",
      "Epoch 69/100\n",
      "1/1 [==============================] - 0s 34ms/step - loss: 2.2831e-04 - accuracy: 1.0000 - val_loss: 12.2849 - val_accuracy: 0.0000e+00\n",
      "Epoch 70/100\n",
      "1/1 [==============================] - 0s 27ms/step - loss: 3.3250e-04 - accuracy: 1.0000 - val_loss: 12.2927 - val_accuracy: 0.0000e+00\n",
      "Epoch 71/100\n",
      "1/1 [==============================] - 0s 37ms/step - loss: 6.8086e-04 - accuracy: 1.0000 - val_loss: 12.3027 - val_accuracy: 0.0000e+00\n",
      "Epoch 72/100\n",
      "1/1 [==============================] - 0s 27ms/step - loss: 4.0734e-04 - accuracy: 1.0000 - val_loss: 12.3120 - val_accuracy: 0.0000e+00\n",
      "Epoch 73/100\n",
      "1/1 [==============================] - 0s 35ms/step - loss: 8.1566e-04 - accuracy: 1.0000 - val_loss: 12.3246 - val_accuracy: 0.0000e+00\n",
      "Epoch 74/100\n",
      "1/1 [==============================] - 0s 34ms/step - loss: 5.5728e-05 - accuracy: 1.0000 - val_loss: 12.3362 - val_accuracy: 0.0000e+00\n",
      "Epoch 75/100\n",
      "1/1 [==============================] - 0s 28ms/step - loss: 4.7861e-05 - accuracy: 1.0000 - val_loss: 12.3469 - val_accuracy: 0.0000e+00\n",
      "Epoch 76/100\n",
      "1/1 [==============================] - 0s 33ms/step - loss: 1.4846e-04 - accuracy: 1.0000 - val_loss: 12.3568 - val_accuracy: 0.0000e+00\n",
      "Epoch 77/100\n",
      "1/1 [==============================] - 0s 34ms/step - loss: 5.2033e-05 - accuracy: 1.0000 - val_loss: 12.3660 - val_accuracy: 0.0000e+00\n",
      "Epoch 78/100\n",
      "1/1 [==============================] - 0s 32ms/step - loss: 2.0876e-04 - accuracy: 1.0000 - val_loss: 12.3752 - val_accuracy: 0.0000e+00\n",
      "Epoch 79/100\n",
      "1/1 [==============================] - 0s 33ms/step - loss: 1.5603e-04 - accuracy: 1.0000 - val_loss: 12.3842 - val_accuracy: 0.0000e+00\n",
      "Epoch 80/100\n",
      "1/1 [==============================] - 0s 33ms/step - loss: 6.6874e-05 - accuracy: 1.0000 - val_loss: 12.3927 - val_accuracy: 0.0000e+00\n",
      "Epoch 81/100\n",
      "1/1 [==============================] - 0s 33ms/step - loss: 9.8282e-05 - accuracy: 1.0000 - val_loss: 12.4005 - val_accuracy: 0.0000e+00\n",
      "Epoch 82/100\n",
      "1/1 [==============================] - 0s 54ms/step - loss: 1.2063e-04 - accuracy: 1.0000 - val_loss: 12.4079 - val_accuracy: 0.0000e+00\n",
      "Epoch 83/100\n",
      "1/1 [==============================] - 0s 27ms/step - loss: 7.0211e-05 - accuracy: 1.0000 - val_loss: 12.4149 - val_accuracy: 0.0000e+00\n",
      "Epoch 84/100\n",
      "1/1 [==============================] - 0s 33ms/step - loss: 8.7435e-05 - accuracy: 1.0000 - val_loss: 12.4218 - val_accuracy: 0.0000e+00\n",
      "Epoch 85/100\n",
      "1/1 [==============================] - 0s 34ms/step - loss: 1.4739e-04 - accuracy: 1.0000 - val_loss: 12.4285 - val_accuracy: 0.0000e+00\n",
      "Epoch 86/100\n",
      "1/1 [==============================] - 0s 35ms/step - loss: 1.4560e-04 - accuracy: 1.0000 - val_loss: 12.4348 - val_accuracy: 0.0000e+00\n",
      "Epoch 87/100\n",
      "1/1 [==============================] - 0s 21ms/step - loss: 1.2033e-04 - accuracy: 1.0000 - val_loss: 12.4410 - val_accuracy: 0.0000e+00\n",
      "Epoch 88/100\n",
      "1/1 [==============================] - 0s 22ms/step - loss: 7.7900e-05 - accuracy: 1.0000 - val_loss: 12.4469 - val_accuracy: 0.0000e+00\n",
      "Epoch 89/100\n",
      "1/1 [==============================] - 0s 32ms/step - loss: 9.8283e-05 - accuracy: 1.0000 - val_loss: 12.4525 - val_accuracy: 0.0000e+00\n",
      "Epoch 90/100\n",
      "1/1 [==============================] - 0s 31ms/step - loss: 5.9543e-05 - accuracy: 1.0000 - val_loss: 12.4579 - val_accuracy: 0.0000e+00\n",
      "Epoch 91/100\n",
      "1/1 [==============================] - 0s 32ms/step - loss: 6.9972e-05 - accuracy: 1.0000 - val_loss: 12.4630 - val_accuracy: 0.0000e+00\n",
      "Epoch 92/100\n",
      "1/1 [==============================] - 0s 33ms/step - loss: 3.2722e-05 - accuracy: 1.0000 - val_loss: 12.4678 - val_accuracy: 0.0000e+00\n",
      "Epoch 93/100\n",
      "1/1 [==============================] - 0s 31ms/step - loss: 8.4634e-05 - accuracy: 1.0000 - val_loss: 12.4725 - val_accuracy: 0.0000e+00\n",
      "Epoch 94/100\n",
      "1/1 [==============================] - 0s 34ms/step - loss: 5.1557e-05 - accuracy: 1.0000 - val_loss: 12.4770 - val_accuracy: 0.0000e+00\n",
      "Epoch 95/100\n",
      "1/1 [==============================] - 0s 33ms/step - loss: 1.4828e-04 - accuracy: 1.0000 - val_loss: 12.4813 - val_accuracy: 0.0000e+00\n",
      "Epoch 96/100\n",
      "1/1 [==============================] - 0s 32ms/step - loss: 2.2831e-04 - accuracy: 1.0000 - val_loss: 12.4865 - val_accuracy: 0.0000e+00\n",
      "Epoch 97/100\n",
      "1/1 [==============================] - 0s 33ms/step - loss: 2.5835e-04 - accuracy: 1.0000 - val_loss: 12.4917 - val_accuracy: 0.0000e+00\n",
      "Epoch 98/100\n",
      "1/1 [==============================] - 0s 17ms/step - loss: 1.2421e-04 - accuracy: 1.0000 - val_loss: 12.4967 - val_accuracy: 0.0000e+00\n",
      "Epoch 99/100\n",
      "1/1 [==============================] - 0s 31ms/step - loss: 1.2945e-04 - accuracy: 1.0000 - val_loss: 12.5018 - val_accuracy: 0.0000e+00\n",
      "Epoch 100/100\n",
      "1/1 [==============================] - 0s 30ms/step - loss: 2.6121e-04 - accuracy: 1.0000 - val_loss: 12.5072 - val_accuracy: 0.0000e+00\n"
     ]
    }
   ],
   "source": [
    "model.fit(X_train, y_train, validation_data=(X_test, y_test), epochs=100)\n",
    "model.save('sequential_recommendation_model.h5')"
   ]
  },
  {
   "cell_type": "code",
   "execution_count": 93,
   "id": "694f5442",
   "metadata": {},
   "outputs": [
    {
     "data": {
      "text/html": [
       "<div>\n",
       "<style scoped>\n",
       "    .dataframe tbody tr th:only-of-type {\n",
       "        vertical-align: middle;\n",
       "    }\n",
       "\n",
       "    .dataframe tbody tr th {\n",
       "        vertical-align: top;\n",
       "    }\n",
       "\n",
       "    .dataframe thead th {\n",
       "        text-align: right;\n",
       "    }\n",
       "</style>\n",
       "<table border=\"1\" class=\"dataframe\">\n",
       "  <thead>\n",
       "    <tr style=\"text-align: right;\">\n",
       "      <th></th>\n",
       "      <th>user_id</th>\n",
       "      <th>item_id</th>\n",
       "      <th>timestamp</th>\n",
       "    </tr>\n",
       "  </thead>\n",
       "  <tbody>\n",
       "    <tr>\n",
       "      <th>0</th>\n",
       "      <td>4</td>\n",
       "      <td>phone1</td>\n",
       "      <td>2022-01-01 10:00:00</td>\n",
       "    </tr>\n",
       "  </tbody>\n",
       "</table>\n",
       "</div>"
      ],
      "text/plain": [
       "   user_id item_id            timestamp\n",
       "0        4  phone1  2022-01-01 10:00:00"
      ]
     },
     "execution_count": 93,
     "metadata": {},
     "output_type": "execute_result"
    }
   ],
   "source": [
    "new_user_data = pd.DataFrame({'user_id': [4], 'item_id': ['phone1'], 'timestamp': ['2022-01-01 10:00:00']})\n",
    "new_user_data"
   ]
  },
  {
   "cell_type": "code",
   "execution_count": 94,
   "id": "9422ab12",
   "metadata": {},
   "outputs": [
    {
     "data": {
      "text/html": [
       "<div>\n",
       "<style scoped>\n",
       "    .dataframe tbody tr th:only-of-type {\n",
       "        vertical-align: middle;\n",
       "    }\n",
       "\n",
       "    .dataframe tbody tr th {\n",
       "        vertical-align: top;\n",
       "    }\n",
       "\n",
       "    .dataframe thead th {\n",
       "        text-align: right;\n",
       "    }\n",
       "</style>\n",
       "<table border=\"1\" class=\"dataframe\">\n",
       "  <thead>\n",
       "    <tr style=\"text-align: right;\">\n",
       "      <th></th>\n",
       "      <th>user_id</th>\n",
       "      <th>item_id</th>\n",
       "      <th>timestamp</th>\n",
       "    </tr>\n",
       "  </thead>\n",
       "  <tbody>\n",
       "    <tr>\n",
       "      <th>0</th>\n",
       "      <td>4</td>\n",
       "      <td>14</td>\n",
       "      <td>2022-01-01 10:00:00</td>\n",
       "    </tr>\n",
       "  </tbody>\n",
       "</table>\n",
       "</div>"
      ],
      "text/plain": [
       "   user_id  item_id            timestamp\n",
       "0        4       14  2022-01-01 10:00:00"
      ]
     },
     "execution_count": 94,
     "metadata": {},
     "output_type": "execute_result"
    }
   ],
   "source": [
    "new_user_data['item_id'] = label_encoder.transform(new_user_data['item_id'])\n",
    "new_user_data"
   ]
  },
  {
   "cell_type": "code",
   "execution_count": 95,
   "id": "a2ef1837",
   "metadata": {},
   "outputs": [
    {
     "data": {
      "text/plain": [
       "[14]"
      ]
     },
     "execution_count": 95,
     "metadata": {},
     "output_type": "execute_result"
    }
   ],
   "source": [
    "new_user_sequence = new_user_data['item_id'].tolist()\n",
    "new_user_sequence"
   ]
  },
  {
   "cell_type": "code",
   "execution_count": 96,
   "id": "c03b8baa",
   "metadata": {},
   "outputs": [
    {
     "data": {
      "text/plain": [
       "array([[[ 0],\n",
       "        [ 0],\n",
       "        [ 0],\n",
       "        [ 0],\n",
       "        [ 0],\n",
       "        [ 0],\n",
       "        [ 0],\n",
       "        [ 0],\n",
       "        [ 0],\n",
       "        [14]]])"
      ]
     },
     "execution_count": 96,
     "metadata": {},
     "output_type": "execute_result"
    }
   ],
   "source": [
    "new_user_sequence = pad_sequences([new_user_sequence], maxlen=max_sequence_length, padding='pre', truncating='pre')\n",
    "new_user_sequence = new_user_sequence.reshape((new_user_sequence.shape[0], new_user_sequence.shape[1], 1))\n",
    "new_user_sequence"
   ]
  },
  {
   "cell_type": "code",
   "execution_count": 97,
   "id": "d5021e37",
   "metadata": {},
   "outputs": [
    {
     "name": "stdout",
     "output_type": "stream",
     "text": [
      "1/1 [==============================] - 0s 257ms/step\n",
      "Recommended item: screen protector1\n"
     ]
    }
   ],
   "source": [
    "predicted_item_id = model.predict(new_user_sequence)\n",
    "predicted_item_id = label_encoder.inverse_transform([np.argmax(predicted_item_id)])\n",
    "print('Recommended item:', predicted_item_id[0])"
   ]
  },
  {
   "cell_type": "code",
   "execution_count": 101,
   "id": "b730d904",
   "metadata": {},
   "outputs": [
    {
     "name": "stdout",
     "output_type": "stream",
     "text": [
      "1/1 [==============================] - 0s 20ms/step\n",
      "Recommended item: car charger2\n"
     ]
    }
   ],
   "source": [
    "new_user_data = pd.DataFrame({'user_id': [4, 4], 'item_id': ['phone1', 'case1'], 'timestamp': ['2022-01-01 10:00:00', '2022-01-01 10:05:00']})\n",
    "new_user_data['item_id'] = label_encoder.transform(new_user_data['item_id'])\n",
    "new_user_sequence = new_user_data['item_id'].tolist()\n",
    "new_user_sequence = pad_sequences([new_user_sequence], maxlen=max_sequence_length, padding='pre', truncating='pre')\n",
    "new_user_sequence = new_user_sequence.reshape((new_user_sequence.shape[0], new_user_sequence.shape[1], 1))\n",
    "predicted_item_id = model.predict(new_user_sequence)\n",
    "predicted_item_id = label_encoder.inverse_transform([np.argmax(predicted_item_id)])\n",
    "print('Recommended item:', predicted_item_id[0])"
   ]
  },
  {
   "cell_type": "code",
   "execution_count": null,
   "id": "ab80e5e7",
   "metadata": {},
   "outputs": [],
   "source": []
  }
 ],
 "metadata": {
  "kernelspec": {
   "display_name": "Python 3 (ipykernel)",
   "language": "python",
   "name": "python3"
  },
  "language_info": {
   "codemirror_mode": {
    "name": "ipython",
    "version": 3
   },
   "file_extension": ".py",
   "mimetype": "text/x-python",
   "name": "python",
   "nbconvert_exporter": "python",
   "pygments_lexer": "ipython3",
   "version": "3.10.4"
  }
 },
 "nbformat": 4,
 "nbformat_minor": 5
}
